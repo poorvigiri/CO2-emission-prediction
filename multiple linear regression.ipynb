{
 "cells": [
  {
   "cell_type": "code",
   "execution_count": 1,
   "metadata": {},
   "outputs": [],
   "source": [
    "#import necessary libraries\n",
    "import matplotlib.pyplot as plt\n",
    "import pandas as pd\n",
    "import numpy as np\n",
    "import pylab as py\n",
    "%matplotlib inline"
   ]
  },
  {
   "cell_type": "code",
   "execution_count": 2,
   "metadata": {},
   "outputs": [
    {
     "data": {
      "text/html": [
       "<div>\n",
       "<style scoped>\n",
       "    .dataframe tbody tr th:only-of-type {\n",
       "        vertical-align: middle;\n",
       "    }\n",
       "\n",
       "    .dataframe tbody tr th {\n",
       "        vertical-align: top;\n",
       "    }\n",
       "\n",
       "    .dataframe thead th {\n",
       "        text-align: right;\n",
       "    }\n",
       "</style>\n",
       "<table border=\"1\" class=\"dataframe\">\n",
       "  <thead>\n",
       "    <tr style=\"text-align: right;\">\n",
       "      <th></th>\n",
       "      <th>modelyear</th>\n",
       "      <th>make</th>\n",
       "      <th>model</th>\n",
       "      <th>vehicleclass</th>\n",
       "      <th>motor</th>\n",
       "      <th>enginesize</th>\n",
       "      <th>Cylinders</th>\n",
       "      <th>Transmission</th>\n",
       "      <th>fueltype1</th>\n",
       "      <th>consumptioncomb</th>\n",
       "      <th>range1</th>\n",
       "      <th>rechargetime</th>\n",
       "      <th>fueltype2</th>\n",
       "      <th>consumptioncity</th>\n",
       "      <th>consumptionhwy</th>\n",
       "      <th>consumptioncombb</th>\n",
       "      <th>range2</th>\n",
       "      <th>co2emissions</th>\n",
       "      <th>co2rating</th>\n",
       "      <th>smograting</th>\n",
       "    </tr>\n",
       "  </thead>\n",
       "  <tbody>\n",
       "    <tr>\n",
       "      <th>0</th>\n",
       "      <td>2012</td>\n",
       "      <td>Chevrolet</td>\n",
       "      <td>Volt</td>\n",
       "      <td>Compact</td>\n",
       "      <td>111</td>\n",
       "      <td>1.4</td>\n",
       "      <td>4</td>\n",
       "      <td>AV</td>\n",
       "      <td>B</td>\n",
       "      <td>2.5 (22.3 kWh/100 km)</td>\n",
       "      <td>56</td>\n",
       "      <td>4.0</td>\n",
       "      <td>Z</td>\n",
       "      <td>6.7</td>\n",
       "      <td>5.9</td>\n",
       "      <td>6.4</td>\n",
       "      <td>550</td>\n",
       "      <td>54</td>\n",
       "      <td>NaN</td>\n",
       "      <td>NaN</td>\n",
       "    </tr>\n",
       "    <tr>\n",
       "      <th>1</th>\n",
       "      <td>2013</td>\n",
       "      <td>Chevrolet</td>\n",
       "      <td>Volt</td>\n",
       "      <td>Compact</td>\n",
       "      <td>111</td>\n",
       "      <td>1.4</td>\n",
       "      <td>4</td>\n",
       "      <td>AV</td>\n",
       "      <td>B</td>\n",
       "      <td>2.4 (21.4 kWh/100 km)</td>\n",
       "      <td>61</td>\n",
       "      <td>4.0</td>\n",
       "      <td>Z</td>\n",
       "      <td>6.7</td>\n",
       "      <td>5.9</td>\n",
       "      <td>6.4</td>\n",
       "      <td>550</td>\n",
       "      <td>45</td>\n",
       "      <td>NaN</td>\n",
       "      <td>NaN</td>\n",
       "    </tr>\n",
       "    <tr>\n",
       "      <th>2</th>\n",
       "      <td>2013</td>\n",
       "      <td>Ford</td>\n",
       "      <td>C-MAX Energi</td>\n",
       "      <td>Mid-size</td>\n",
       "      <td>68</td>\n",
       "      <td>2.0</td>\n",
       "      <td>4</td>\n",
       "      <td>AV</td>\n",
       "      <td>B/X</td>\n",
       "      <td>2.7 ([23.2 kWh + 0.1 L]/100 km)</td>\n",
       "      <td>32</td>\n",
       "      <td>2.5</td>\n",
       "      <td>X</td>\n",
       "      <td>5.8</td>\n",
       "      <td>6.5</td>\n",
       "      <td>6.1</td>\n",
       "      <td>856</td>\n",
       "      <td>80</td>\n",
       "      <td>NaN</td>\n",
       "      <td>NaN</td>\n",
       "    </tr>\n",
       "    <tr>\n",
       "      <th>3</th>\n",
       "      <td>2013</td>\n",
       "      <td>Ford</td>\n",
       "      <td>Fusion Energi</td>\n",
       "      <td>Mid-size</td>\n",
       "      <td>68</td>\n",
       "      <td>2.0</td>\n",
       "      <td>4</td>\n",
       "      <td>AV</td>\n",
       "      <td>B/X</td>\n",
       "      <td>2.7 ([23.2 kWh + 0.1 L]/100 km)</td>\n",
       "      <td>32</td>\n",
       "      <td>2.5</td>\n",
       "      <td>X</td>\n",
       "      <td>5.8</td>\n",
       "      <td>6.5</td>\n",
       "      <td>6.1</td>\n",
       "      <td>856</td>\n",
       "      <td>80</td>\n",
       "      <td>NaN</td>\n",
       "      <td>NaN</td>\n",
       "    </tr>\n",
       "    <tr>\n",
       "      <th>4</th>\n",
       "      <td>2013</td>\n",
       "      <td>Toyota</td>\n",
       "      <td>Prius Plug-in Hybrid</td>\n",
       "      <td>Mid-size</td>\n",
       "      <td>60</td>\n",
       "      <td>1.8</td>\n",
       "      <td>4</td>\n",
       "      <td>AV</td>\n",
       "      <td>B/X</td>\n",
       "      <td>2.5 ([18.0 kWh + 0.4 L]/100 km)</td>\n",
       "      <td>18</td>\n",
       "      <td>1.5</td>\n",
       "      <td>X</td>\n",
       "      <td>4.7</td>\n",
       "      <td>4.8</td>\n",
       "      <td>4.7</td>\n",
       "      <td>845</td>\n",
       "      <td>101</td>\n",
       "      <td>NaN</td>\n",
       "      <td>NaN</td>\n",
       "    </tr>\n",
       "    <tr>\n",
       "      <th>...</th>\n",
       "      <td>...</td>\n",
       "      <td>...</td>\n",
       "      <td>...</td>\n",
       "      <td>...</td>\n",
       "      <td>...</td>\n",
       "      <td>...</td>\n",
       "      <td>...</td>\n",
       "      <td>...</td>\n",
       "      <td>...</td>\n",
       "      <td>...</td>\n",
       "      <td>...</td>\n",
       "      <td>...</td>\n",
       "      <td>...</td>\n",
       "      <td>...</td>\n",
       "      <td>...</td>\n",
       "      <td>...</td>\n",
       "      <td>...</td>\n",
       "      <td>...</td>\n",
       "      <td>...</td>\n",
       "      <td>...</td>\n",
       "    </tr>\n",
       "    <tr>\n",
       "      <th>126</th>\n",
       "      <td>2020</td>\n",
       "      <td>Volvo</td>\n",
       "      <td>S60 T8 AWD</td>\n",
       "      <td>Compact</td>\n",
       "      <td>65</td>\n",
       "      <td>2.0</td>\n",
       "      <td>4</td>\n",
       "      <td>AS8</td>\n",
       "      <td>B/Z*</td>\n",
       "      <td>3.2 ([29.0 kWh + 0.0 L]/100 km)</td>\n",
       "      <td>35</td>\n",
       "      <td>3.0</td>\n",
       "      <td>Z</td>\n",
       "      <td>8.4</td>\n",
       "      <td>7.0</td>\n",
       "      <td>7.8</td>\n",
       "      <td>781</td>\n",
       "      <td>94</td>\n",
       "      <td>10.0</td>\n",
       "      <td>7.0</td>\n",
       "    </tr>\n",
       "    <tr>\n",
       "      <th>127</th>\n",
       "      <td>2020</td>\n",
       "      <td>Volvo</td>\n",
       "      <td>S90 T8 AWD</td>\n",
       "      <td>Mid-size</td>\n",
       "      <td>65</td>\n",
       "      <td>2.0</td>\n",
       "      <td>4</td>\n",
       "      <td>AS8</td>\n",
       "      <td>B/Z*</td>\n",
       "      <td>3.7 ([31.4 kWh + 0.2 L]/100 km)</td>\n",
       "      <td>34</td>\n",
       "      <td>3.0</td>\n",
       "      <td>Z</td>\n",
       "      <td>8.3</td>\n",
       "      <td>7.5</td>\n",
       "      <td>7.9</td>\n",
       "      <td>761</td>\n",
       "      <td>99</td>\n",
       "      <td>10.0</td>\n",
       "      <td>7.0</td>\n",
       "    </tr>\n",
       "    <tr>\n",
       "      <th>128</th>\n",
       "      <td>2020</td>\n",
       "      <td>Volvo</td>\n",
       "      <td>V60 T8 AWD</td>\n",
       "      <td>Station wagon: Small</td>\n",
       "      <td>65</td>\n",
       "      <td>2.0</td>\n",
       "      <td>4</td>\n",
       "      <td>AS8</td>\n",
       "      <td>B/Z*</td>\n",
       "      <td>3.2 ([29.0 kWh + 0.0 L]/100 km)</td>\n",
       "      <td>35</td>\n",
       "      <td>3.0</td>\n",
       "      <td>Z</td>\n",
       "      <td>8.4</td>\n",
       "      <td>7.0</td>\n",
       "      <td>7.8</td>\n",
       "      <td>781</td>\n",
       "      <td>94</td>\n",
       "      <td>10.0</td>\n",
       "      <td>7.0</td>\n",
       "    </tr>\n",
       "    <tr>\n",
       "      <th>129</th>\n",
       "      <td>2020</td>\n",
       "      <td>Volvo</td>\n",
       "      <td>XC60 T8 AWD</td>\n",
       "      <td>SUV: Small</td>\n",
       "      <td>65</td>\n",
       "      <td>2.0</td>\n",
       "      <td>4</td>\n",
       "      <td>AS8</td>\n",
       "      <td>B/Z*</td>\n",
       "      <td>4.2 ([38.2 kWh + 0.0 L]/100 km)</td>\n",
       "      <td>27</td>\n",
       "      <td>3.0</td>\n",
       "      <td>Z</td>\n",
       "      <td>9.5</td>\n",
       "      <td>8.7</td>\n",
       "      <td>9.1</td>\n",
       "      <td>781</td>\n",
       "      <td>128</td>\n",
       "      <td>9.0</td>\n",
       "      <td>7.0</td>\n",
       "    </tr>\n",
       "    <tr>\n",
       "      <th>130</th>\n",
       "      <td>2020</td>\n",
       "      <td>Volvo</td>\n",
       "      <td>XC90 T8 AWD</td>\n",
       "      <td>SUV: Standard</td>\n",
       "      <td>65</td>\n",
       "      <td>2.0</td>\n",
       "      <td>4</td>\n",
       "      <td>AS8</td>\n",
       "      <td>B/Z*</td>\n",
       "      <td>4.0 ([36.1 kWh + 0.0 L]/100 km)</td>\n",
       "      <td>29</td>\n",
       "      <td>3.0</td>\n",
       "      <td>Z</td>\n",
       "      <td>9.1</td>\n",
       "      <td>8.4</td>\n",
       "      <td>8.8</td>\n",
       "      <td>813</td>\n",
       "      <td>120</td>\n",
       "      <td>10.0</td>\n",
       "      <td>7.0</td>\n",
       "    </tr>\n",
       "  </tbody>\n",
       "</table>\n",
       "<p>131 rows × 20 columns</p>\n",
       "</div>"
      ],
      "text/plain": [
       "     modelyear       make                 model          vehicleclass  motor  \\\n",
       "0         2012  Chevrolet                  Volt               Compact    111   \n",
       "1         2013  Chevrolet                  Volt               Compact    111   \n",
       "2         2013       Ford          C-MAX Energi              Mid-size     68   \n",
       "3         2013       Ford         Fusion Energi              Mid-size     68   \n",
       "4         2013     Toyota  Prius Plug-in Hybrid              Mid-size     60   \n",
       "..         ...        ...                   ...                   ...    ...   \n",
       "126       2020      Volvo            S60 T8 AWD               Compact     65   \n",
       "127       2020      Volvo            S90 T8 AWD              Mid-size     65   \n",
       "128       2020      Volvo            V60 T8 AWD  Station wagon: Small     65   \n",
       "129       2020      Volvo           XC60 T8 AWD            SUV: Small     65   \n",
       "130       2020      Volvo           XC90 T8 AWD         SUV: Standard     65   \n",
       "\n",
       "     enginesize  Cylinders Transmission fueltype1  \\\n",
       "0           1.4          4           AV         B   \n",
       "1           1.4          4           AV         B   \n",
       "2           2.0          4           AV       B/X   \n",
       "3           2.0          4           AV       B/X   \n",
       "4           1.8          4           AV       B/X   \n",
       "..          ...        ...          ...       ...   \n",
       "126         2.0          4          AS8      B/Z*   \n",
       "127         2.0          4          AS8      B/Z*   \n",
       "128         2.0          4          AS8      B/Z*   \n",
       "129         2.0          4          AS8      B/Z*   \n",
       "130         2.0          4          AS8      B/Z*   \n",
       "\n",
       "                     consumptioncomb  range1  rechargetime fueltype2  \\\n",
       "0              2.5 (22.3 kWh/100 km)      56           4.0         Z   \n",
       "1              2.4 (21.4 kWh/100 km)      61           4.0         Z   \n",
       "2    2.7 ([23.2 kWh + 0.1 L]/100 km)      32           2.5         X   \n",
       "3    2.7 ([23.2 kWh + 0.1 L]/100 km)      32           2.5         X   \n",
       "4    2.5 ([18.0 kWh + 0.4 L]/100 km)      18           1.5         X   \n",
       "..                               ...     ...           ...       ...   \n",
       "126  3.2 ([29.0 kWh + 0.0 L]/100 km)      35           3.0         Z   \n",
       "127  3.7 ([31.4 kWh + 0.2 L]/100 km)      34           3.0         Z   \n",
       "128  3.2 ([29.0 kWh + 0.0 L]/100 km)      35           3.0         Z   \n",
       "129  4.2 ([38.2 kWh + 0.0 L]/100 km)      27           3.0         Z   \n",
       "130  4.0 ([36.1 kWh + 0.0 L]/100 km)      29           3.0         Z   \n",
       "\n",
       "     consumptioncity  consumptionhwy  consumptioncombb  range2  co2emissions  \\\n",
       "0                6.7             5.9               6.4     550            54   \n",
       "1                6.7             5.9               6.4     550            45   \n",
       "2                5.8             6.5               6.1     856            80   \n",
       "3                5.8             6.5               6.1     856            80   \n",
       "4                4.7             4.8               4.7     845           101   \n",
       "..               ...             ...               ...     ...           ...   \n",
       "126              8.4             7.0               7.8     781            94   \n",
       "127              8.3             7.5               7.9     761            99   \n",
       "128              8.4             7.0               7.8     781            94   \n",
       "129              9.5             8.7               9.1     781           128   \n",
       "130              9.1             8.4               8.8     813           120   \n",
       "\n",
       "     co2rating  smograting  \n",
       "0          NaN         NaN  \n",
       "1          NaN         NaN  \n",
       "2          NaN         NaN  \n",
       "3          NaN         NaN  \n",
       "4          NaN         NaN  \n",
       "..         ...         ...  \n",
       "126       10.0         7.0  \n",
       "127       10.0         7.0  \n",
       "128       10.0         7.0  \n",
       "129        9.0         7.0  \n",
       "130       10.0         7.0  \n",
       "\n",
       "[131 rows x 20 columns]"
      ]
     },
     "execution_count": 2,
     "metadata": {},
     "output_type": "execute_result"
    }
   ],
   "source": [
    "#reading the data \n",
    "df=pd.read_csv(\"newhybridvehicles.csv\")\n",
    "df"
   ]
  },
  {
   "cell_type": "code",
   "execution_count": 3,
   "metadata": {},
   "outputs": [
    {
     "data": {
      "text/html": [
       "<div>\n",
       "<style scoped>\n",
       "    .dataframe tbody tr th:only-of-type {\n",
       "        vertical-align: middle;\n",
       "    }\n",
       "\n",
       "    .dataframe tbody tr th {\n",
       "        vertical-align: top;\n",
       "    }\n",
       "\n",
       "    .dataframe thead th {\n",
       "        text-align: right;\n",
       "    }\n",
       "</style>\n",
       "<table border=\"1\" class=\"dataframe\">\n",
       "  <thead>\n",
       "    <tr style=\"text-align: right;\">\n",
       "      <th></th>\n",
       "      <th>modelyear</th>\n",
       "      <th>motor</th>\n",
       "      <th>enginesize</th>\n",
       "      <th>Cylinders</th>\n",
       "      <th>range1</th>\n",
       "      <th>rechargetime</th>\n",
       "      <th>consumptioncity</th>\n",
       "      <th>consumptionhwy</th>\n",
       "      <th>consumptioncombb</th>\n",
       "      <th>range2</th>\n",
       "      <th>co2emissions</th>\n",
       "      <th>co2rating</th>\n",
       "      <th>smograting</th>\n",
       "    </tr>\n",
       "  </thead>\n",
       "  <tbody>\n",
       "    <tr>\n",
       "      <th>count</th>\n",
       "      <td>131.000000</td>\n",
       "      <td>131.00000</td>\n",
       "      <td>131.000000</td>\n",
       "      <td>131.000000</td>\n",
       "      <td>131.000000</td>\n",
       "      <td>131.000000</td>\n",
       "      <td>131.000000</td>\n",
       "      <td>131.000000</td>\n",
       "      <td>131.000000</td>\n",
       "      <td>131.000000</td>\n",
       "      <td>131.000000</td>\n",
       "      <td>111.000000</td>\n",
       "      <td>95.000000</td>\n",
       "    </tr>\n",
       "    <tr>\n",
       "      <th>mean</th>\n",
       "      <td>2017.603053</td>\n",
       "      <td>89.21374</td>\n",
       "      <td>1.982443</td>\n",
       "      <td>4.183206</td>\n",
       "      <td>45.152672</td>\n",
       "      <td>3.014885</td>\n",
       "      <td>8.023664</td>\n",
       "      <td>7.374046</td>\n",
       "      <td>7.736641</td>\n",
       "      <td>652.641221</td>\n",
       "      <td>95.297710</td>\n",
       "      <td>9.513514</td>\n",
       "      <td>6.063158</td>\n",
       "    </tr>\n",
       "    <tr>\n",
       "      <th>std</th>\n",
       "      <td>1.963824</td>\n",
       "      <td>43.24919</td>\n",
       "      <td>0.720628</td>\n",
       "      <td>1.142208</td>\n",
       "      <td>38.089060</td>\n",
       "      <td>1.072662</td>\n",
       "      <td>2.254153</td>\n",
       "      <td>1.669942</td>\n",
       "      <td>1.962071</td>\n",
       "      <td>226.394756</td>\n",
       "      <td>44.621605</td>\n",
       "      <td>0.851361</td>\n",
       "      <td>1.820746</td>\n",
       "    </tr>\n",
       "    <tr>\n",
       "      <th>min</th>\n",
       "      <td>2012.000000</td>\n",
       "      <td>45.00000</td>\n",
       "      <td>0.600000</td>\n",
       "      <td>2.000000</td>\n",
       "      <td>18.000000</td>\n",
       "      <td>1.500000</td>\n",
       "      <td>4.300000</td>\n",
       "      <td>4.400000</td>\n",
       "      <td>4.300000</td>\n",
       "      <td>116.000000</td>\n",
       "      <td>14.000000</td>\n",
       "      <td>7.000000</td>\n",
       "      <td>1.000000</td>\n",
       "    </tr>\n",
       "    <tr>\n",
       "      <th>25%</th>\n",
       "      <td>2016.000000</td>\n",
       "      <td>65.00000</td>\n",
       "      <td>1.500000</td>\n",
       "      <td>4.000000</td>\n",
       "      <td>24.000000</td>\n",
       "      <td>2.500000</td>\n",
       "      <td>5.800000</td>\n",
       "      <td>5.900000</td>\n",
       "      <td>6.100000</td>\n",
       "      <td>517.000000</td>\n",
       "      <td>60.000000</td>\n",
       "      <td>9.000000</td>\n",
       "      <td>6.000000</td>\n",
       "    </tr>\n",
       "    <tr>\n",
       "      <th>50%</th>\n",
       "      <td>2018.000000</td>\n",
       "      <td>74.00000</td>\n",
       "      <td>2.000000</td>\n",
       "      <td>4.000000</td>\n",
       "      <td>32.000000</td>\n",
       "      <td>3.000000</td>\n",
       "      <td>8.400000</td>\n",
       "      <td>7.500000</td>\n",
       "      <td>7.800000</td>\n",
       "      <td>663.000000</td>\n",
       "      <td>98.000000</td>\n",
       "      <td>10.000000</td>\n",
       "      <td>7.000000</td>\n",
       "    </tr>\n",
       "    <tr>\n",
       "      <th>75%</th>\n",
       "      <td>2019.000000</td>\n",
       "      <td>102.50000</td>\n",
       "      <td>2.000000</td>\n",
       "      <td>4.000000</td>\n",
       "      <td>47.000000</td>\n",
       "      <td>3.000000</td>\n",
       "      <td>9.800000</td>\n",
       "      <td>8.500000</td>\n",
       "      <td>9.200000</td>\n",
       "      <td>853.000000</td>\n",
       "      <td>130.000000</td>\n",
       "      <td>10.000000</td>\n",
       "      <td>7.000000</td>\n",
       "    </tr>\n",
       "    <tr>\n",
       "      <th>max</th>\n",
       "      <td>2020.000000</td>\n",
       "      <td>300.00000</td>\n",
       "      <td>4.600000</td>\n",
       "      <td>8.000000</td>\n",
       "      <td>203.000000</td>\n",
       "      <td>7.000000</td>\n",
       "      <td>13.000000</td>\n",
       "      <td>12.000000</td>\n",
       "      <td>12.500000</td>\n",
       "      <td>995.000000</td>\n",
       "      <td>184.000000</td>\n",
       "      <td>10.000000</td>\n",
       "      <td>8.000000</td>\n",
       "    </tr>\n",
       "  </tbody>\n",
       "</table>\n",
       "</div>"
      ],
      "text/plain": [
       "         modelyear      motor  enginesize   Cylinders      range1  \\\n",
       "count   131.000000  131.00000  131.000000  131.000000  131.000000   \n",
       "mean   2017.603053   89.21374    1.982443    4.183206   45.152672   \n",
       "std       1.963824   43.24919    0.720628    1.142208   38.089060   \n",
       "min    2012.000000   45.00000    0.600000    2.000000   18.000000   \n",
       "25%    2016.000000   65.00000    1.500000    4.000000   24.000000   \n",
       "50%    2018.000000   74.00000    2.000000    4.000000   32.000000   \n",
       "75%    2019.000000  102.50000    2.000000    4.000000   47.000000   \n",
       "max    2020.000000  300.00000    4.600000    8.000000  203.000000   \n",
       "\n",
       "       rechargetime  consumptioncity  consumptionhwy  consumptioncombb  \\\n",
       "count    131.000000       131.000000      131.000000        131.000000   \n",
       "mean       3.014885         8.023664        7.374046          7.736641   \n",
       "std        1.072662         2.254153        1.669942          1.962071   \n",
       "min        1.500000         4.300000        4.400000          4.300000   \n",
       "25%        2.500000         5.800000        5.900000          6.100000   \n",
       "50%        3.000000         8.400000        7.500000          7.800000   \n",
       "75%        3.000000         9.800000        8.500000          9.200000   \n",
       "max        7.000000        13.000000       12.000000         12.500000   \n",
       "\n",
       "           range2  co2emissions   co2rating  smograting  \n",
       "count  131.000000    131.000000  111.000000   95.000000  \n",
       "mean   652.641221     95.297710    9.513514    6.063158  \n",
       "std    226.394756     44.621605    0.851361    1.820746  \n",
       "min    116.000000     14.000000    7.000000    1.000000  \n",
       "25%    517.000000     60.000000    9.000000    6.000000  \n",
       "50%    663.000000     98.000000   10.000000    7.000000  \n",
       "75%    853.000000    130.000000   10.000000    7.000000  \n",
       "max    995.000000    184.000000   10.000000    8.000000  "
      ]
     },
     "execution_count": 3,
     "metadata": {},
     "output_type": "execute_result"
    }
   ],
   "source": [
    "#describing statistical data of the attributes.\n",
    "df.describe()"
   ]
  },
  {
   "cell_type": "code",
   "execution_count": 4,
   "metadata": {},
   "outputs": [
    {
     "data": {
      "text/html": [
       "<div>\n",
       "<style scoped>\n",
       "    .dataframe tbody tr th:only-of-type {\n",
       "        vertical-align: middle;\n",
       "    }\n",
       "\n",
       "    .dataframe tbody tr th {\n",
       "        vertical-align: top;\n",
       "    }\n",
       "\n",
       "    .dataframe thead th {\n",
       "        text-align: right;\n",
       "    }\n",
       "</style>\n",
       "<table border=\"1\" class=\"dataframe\">\n",
       "  <thead>\n",
       "    <tr style=\"text-align: right;\">\n",
       "      <th></th>\n",
       "      <th>enginesize</th>\n",
       "      <th>Cylinders</th>\n",
       "      <th>consumptioncity</th>\n",
       "      <th>consumptionhwy</th>\n",
       "      <th>consumptioncombb</th>\n",
       "      <th>co2emissions</th>\n",
       "    </tr>\n",
       "  </thead>\n",
       "  <tbody>\n",
       "    <tr>\n",
       "      <th>0</th>\n",
       "      <td>1.4</td>\n",
       "      <td>4</td>\n",
       "      <td>6.7</td>\n",
       "      <td>5.9</td>\n",
       "      <td>6.4</td>\n",
       "      <td>54</td>\n",
       "    </tr>\n",
       "    <tr>\n",
       "      <th>1</th>\n",
       "      <td>1.4</td>\n",
       "      <td>4</td>\n",
       "      <td>6.7</td>\n",
       "      <td>5.9</td>\n",
       "      <td>6.4</td>\n",
       "      <td>45</td>\n",
       "    </tr>\n",
       "    <tr>\n",
       "      <th>2</th>\n",
       "      <td>2.0</td>\n",
       "      <td>4</td>\n",
       "      <td>5.8</td>\n",
       "      <td>6.5</td>\n",
       "      <td>6.1</td>\n",
       "      <td>80</td>\n",
       "    </tr>\n",
       "    <tr>\n",
       "      <th>3</th>\n",
       "      <td>2.0</td>\n",
       "      <td>4</td>\n",
       "      <td>5.8</td>\n",
       "      <td>6.5</td>\n",
       "      <td>6.1</td>\n",
       "      <td>80</td>\n",
       "    </tr>\n",
       "    <tr>\n",
       "      <th>4</th>\n",
       "      <td>1.8</td>\n",
       "      <td>4</td>\n",
       "      <td>4.7</td>\n",
       "      <td>4.8</td>\n",
       "      <td>4.7</td>\n",
       "      <td>101</td>\n",
       "    </tr>\n",
       "    <tr>\n",
       "      <th>5</th>\n",
       "      <td>1.4</td>\n",
       "      <td>4</td>\n",
       "      <td>7.6</td>\n",
       "      <td>6.7</td>\n",
       "      <td>7.2</td>\n",
       "      <td>50</td>\n",
       "    </tr>\n",
       "    <tr>\n",
       "      <th>6</th>\n",
       "      <td>1.4</td>\n",
       "      <td>4</td>\n",
       "      <td>6.7</td>\n",
       "      <td>5.9</td>\n",
       "      <td>6.4</td>\n",
       "      <td>45</td>\n",
       "    </tr>\n",
       "    <tr>\n",
       "      <th>7</th>\n",
       "      <td>2.0</td>\n",
       "      <td>4</td>\n",
       "      <td>5.8</td>\n",
       "      <td>6.5</td>\n",
       "      <td>6.1</td>\n",
       "      <td>80</td>\n",
       "    </tr>\n",
       "    <tr>\n",
       "      <th>8</th>\n",
       "      <td>2.0</td>\n",
       "      <td>4</td>\n",
       "      <td>5.8</td>\n",
       "      <td>6.5</td>\n",
       "      <td>6.1</td>\n",
       "      <td>80</td>\n",
       "    </tr>\n",
       "  </tbody>\n",
       "</table>\n",
       "</div>"
      ],
      "text/plain": [
       "   enginesize  Cylinders  consumptioncity  consumptionhwy  consumptioncombb  \\\n",
       "0         1.4          4              6.7             5.9               6.4   \n",
       "1         1.4          4              6.7             5.9               6.4   \n",
       "2         2.0          4              5.8             6.5               6.1   \n",
       "3         2.0          4              5.8             6.5               6.1   \n",
       "4         1.8          4              4.7             4.8               4.7   \n",
       "5         1.4          4              7.6             6.7               7.2   \n",
       "6         1.4          4              6.7             5.9               6.4   \n",
       "7         2.0          4              5.8             6.5               6.1   \n",
       "8         2.0          4              5.8             6.5               6.1   \n",
       "\n",
       "   co2emissions  \n",
       "0            54  \n",
       "1            45  \n",
       "2            80  \n",
       "3            80  \n",
       "4           101  \n",
       "5            50  \n",
       "6            45  \n",
       "7            80  \n",
       "8            80  "
      ]
     },
     "execution_count": 4,
     "metadata": {},
     "output_type": "execute_result"
    }
   ],
   "source": [
    "#selectively choosing the features we need of the whole dataset.\n",
    "#for featues selection use ng's suggestions.\n",
    "cdf=df[['enginesize','Cylinders','consumptioncity','consumptionhwy','consumptioncombb','co2emissions']]\n",
    "cdf.head(9)"
   ]
  },
  {
   "cell_type": "code",
   "execution_count": 5,
   "metadata": {},
   "outputs": [
    {
     "data": {
      "image/png": "[encoded data removed]",
      "text/plain": [
       "<Figure size 432x288 with 6 Axes>"
      ]
     },
     "metadata": {
      "needs_background": "light"
     },
     "output_type": "display_data"
    }
   ],
   "source": [
    "#plotting graphs for individual attributes.\n",
    "viz=cdf[['enginesize','Cylinders','consumptioncity','consumptionhwy','consumptioncombb']]\n",
    "viz.hist()\n",
    "plt.show()"
   ]
  },
  {
   "cell_type": "code",
   "execution_count": 6,
   "metadata": {},
   "outputs": [
    {
     "data": {
      "image/png": "[encoded data removed]",
      "text/plain": [
       "<Figure size 432x288 with 1 Axes>"
      ]
     },
     "metadata": {
      "needs_background": "light"
     },
     "output_type": "display_data"
    }
   ],
   "source": [
    "#plotting a1 vs o/p of the entire data set of selected attributes.\n",
    "plt.scatter(cdf.enginesize,cdf.co2emissions,color='blue')\n",
    "plt.xlabel(\"enginesize\")\n",
    "plt.ylabel(\"co2emission\")\n",
    "plt.show()"
   ]
  },
  {
   "cell_type": "code",
   "execution_count": 7,
   "metadata": {},
   "outputs": [
    {
     "data": {
      "image/png": "[encoded data removed]",
      "text/plain": [
       "<Figure size 432x288 with 1 Axes>"
      ]
     },
     "metadata": {
      "needs_background": "light"
     },
     "output_type": "display_data"
    }
   ],
   "source": [
    "#plotting a2 vs o/p of the entire data set of selected attributes.\n",
    "plt.scatter(cdf.Cylinders,cdf.co2emissions,color='blue')\n",
    "plt.xlabel(\"Cylinders\")\n",
    "plt.ylabel(\"co2emission\")\n",
    "plt.show()"
   ]
  },
  {
   "cell_type": "code",
   "execution_count": 8,
   "metadata": {},
   "outputs": [
    {
     "data": {
      "image/png": "[encoded data removed]",
      "text/plain": [
       "<Figure size 432x288 with 1 Axes>"
      ]
     },
     "metadata": {
      "needs_background": "light"
     },
     "output_type": "display_data"
    }
   ],
   "source": [
    "#plotting a3 vs o/p of the entire data set of selected attributes.\n",
    "plt.scatter(cdf.consumptioncity,cdf.co2emissions,color='blue')\n",
    "plt.xlabel(\"consumptioncity\")\n",
    "plt.ylabel(\"co2emission\")\n",
    "plt.show()"
   ]
  },
  {
   "cell_type": "code",
   "execution_count": 9,
   "metadata": {},
   "outputs": [
    {
     "data": {
      "image/png": "[encoded data removed]",
      "text/plain": [
       "<Figure size 432x288 with 1 Axes>"
      ]
     },
     "metadata": {
      "needs_background": "light"
     },
     "output_type": "display_data"
    }
   ],
   "source": [
    "#plotting a4 vs o/p of the entire data set of selected attributes.\n",
    "plt.scatter(cdf.consumptionhwy,cdf.co2emissions,color='blue')\n",
    "plt.xlabel(\"consumptionhwy\")\n",
    "plt.ylabel(\"co2emission\")\n",
    "plt.show()"
   ]
  },
  {
   "cell_type": "code",
   "execution_count": 10,
   "metadata": {},
   "outputs": [
    {
     "data": {
      "image/png": "[encoded data removed]",
      "text/plain": [
       "<Figure size 432x288 with 1 Axes>"
      ]
     },
     "metadata": {
      "needs_background": "light"
     },
     "output_type": "display_data"
    }
   ],
   "source": [
    "#plotting a5 vs o/p of the entire data set of selected attributes.\n",
    "plt.scatter(cdf.consumptioncombb,cdf.co2emissions,color='blue')\n",
    "plt.xlabel(\"consumptioncombied\")\n",
    "plt.ylabel(\"co2emission\")\n",
    "plt.show()"
   ]
  },
  {
   "cell_type": "code",
   "execution_count": 11,
   "metadata": {},
   "outputs": [],
   "source": [
    "#splitting train vs test set \n",
    "msk=np.random.rand(len(df))<0.7\n",
    "train=cdf[msk]\n",
    "test=cdf[~msk]"
   ]
  },
  {
   "cell_type": "code",
   "execution_count": 12,
   "metadata": {},
   "outputs": [
    {
     "data": {
      "image/png": "[encoded data removed]",
      "text/plain": [
       "<Figure size 432x288 with 1 Axes>"
      ]
     },
     "metadata": {
      "needs_background": "light"
     },
     "output_type": "display_data"
    }
   ],
   "source": [
    "#plotting train data of enginesize vs co2emi\n",
    "plt.scatter(train.enginesize,train.co2emissions,color='blue')\n",
    "plt.xlabel(\"T enginesize\")\n",
    "plt.ylabel(\"T co2emission\")\n",
    "plt.show()"
   ]
  },
  {
   "cell_type": "code",
   "execution_count": 13,
   "metadata": {},
   "outputs": [
    {
     "data": {
      "image/png": "[encoded data removed]",
      "text/plain": [
       "<Figure size 432x288 with 1 Axes>"
      ]
     },
     "metadata": {
      "needs_background": "light"
     },
     "output_type": "display_data"
    }
   ],
   "source": [
    "#plotting train data of cylinders vs co2emi\n",
    "plt.scatter(train.Cylinders,train.co2emissions,color='blue')\n",
    "plt.xlabel(\"T Cylinders\")\n",
    "plt.ylabel(\"T co2emission\")\n",
    "plt.show()"
   ]
  },
  {
   "cell_type": "code",
   "execution_count": 14,
   "metadata": {},
   "outputs": [
    {
     "data": {
      "image/png": "[encoded data removed]",
      "text/plain": [
       "<Figure size 432x288 with 1 Axes>"
      ]
     },
     "metadata": {
      "needs_background": "light"
     },
     "output_type": "display_data"
    }
   ],
   "source": [
    "#plotting train data of conscity vs co2emi\n",
    "plt.scatter(train.consumptioncity,train.co2emissions,color='blue')\n",
    "plt.xlabel(\"T consumptioncity\")\n",
    "plt.ylabel(\"T co2emission\")\n",
    "plt.show()"
   ]
  },
  {
   "cell_type": "code",
   "execution_count": 15,
   "metadata": {},
   "outputs": [
    {
     "data": {
      "image/png": "[encoded data removed]",
      "text/plain": [
       "<Figure size 432x288 with 1 Axes>"
      ]
     },
     "metadata": {
      "needs_background": "light"
     },
     "output_type": "display_data"
    }
   ],
   "source": [
    "#plotting train data of conshwy vs co2emi\n",
    "plt.scatter(train.consumptionhwy,train.co2emissions,color='blue')\n",
    "plt.xlabel(\"T consumptionhwy\")\n",
    "plt.ylabel(\"T co2emission\")\n",
    "plt.show()"
   ]
  },
  {
   "cell_type": "code",
   "execution_count": 16,
   "metadata": {},
   "outputs": [
    {
     "data": {
      "image/png": "[encoded data removed]",
      "text/plain": [
       "<Figure size 432x288 with 1 Axes>"
      ]
     },
     "metadata": {
      "needs_background": "light"
     },
     "output_type": "display_data"
    }
   ],
   "source": [
    "#plot train data of conscombb vs co2emi\n",
    "plt.scatter(train.consumptioncombb,train.co2emissions,color='blue')\n",
    "plt.xlabel(\"consumptioncombied\")\n",
    "plt.ylabel(\"co2emission\")\n",
    "plt.show()"
   ]
  },
  {
   "cell_type": "code",
   "execution_count": 17,
   "metadata": {},
   "outputs": [
    {
     "name": "stdout",
     "output_type": "stream",
     "text": [
      "coef: [[  40.61815952   -7.9714831    81.5815939    46.341737   -119.82224804]]\n",
      "intercept: [-21.40871038]\n"
     ]
    }
   ],
   "source": [
    "#training the linear reg model with sklearn\n",
    "from sklearn import linear_model\n",
    "reg=linear_model.LinearRegression()\n",
    "x=np.asanyarray(train[['enginesize','Cylinders','consumptioncity','consumptionhwy','consumptioncombb']])\n",
    "y=np.asanyarray(train[['co2emissions']])\n",
    "reg.fit(x,y)\n",
    "print('coef:',reg.coef_)\n",
    "print('intercept:',reg.intercept_)"
   ]
  },
  {
   "cell_type": "code",
   "execution_count": 18,
   "metadata": {},
   "outputs": [
    {
     "data": {
      "text/plain": [
       "array([[ 71.42049836],\n",
       "       [ 62.52730751],\n",
       "       [ 81.73287935],\n",
       "       [158.52207405],\n",
       "       [118.49537264],\n",
       "       [114.08017997],\n",
       "       [ 82.78603653],\n",
       "       [151.49812484],\n",
       "       [157.45243539],\n",
       "       [121.4117039 ],\n",
       "       [106.52967502],\n",
       "       [ 81.73287935],\n",
       "       [114.08017997],\n",
       "       [131.49149649],\n",
       "       [144.15007374],\n",
       "       [103.83232479],\n",
       "       [133.07732179],\n",
       "       [ 44.84050114],\n",
       "       [131.49149649],\n",
       "       [ 69.7837546 ],\n",
       "       [ 78.22542084],\n",
       "       [103.83232479],\n",
       "       [119.26493158],\n",
       "       [ 74.4179283 ],\n",
       "       [ 44.62529964],\n",
       "       [ 81.67584852],\n",
       "       [ 78.22542084],\n",
       "       [ 48.28736917],\n",
       "       [ 94.43508155],\n",
       "       [137.1622545 ],\n",
       "       [ 44.62529964],\n",
       "       [152.56776351],\n",
       "       [109.51960998],\n",
       "       [194.01222764],\n",
       "       [ 59.28687437],\n",
       "       [106.03617364],\n",
       "       [105.16898882]])"
      ]
     },
     "execution_count": 18,
     "metadata": {},
     "output_type": "execute_result"
    }
   ],
   "source": [
    "#to predict the values of the test set\n",
    "x=np.asanyarray(test[['enginesize','Cylinders','consumptioncity','consumptionhwy','consumptioncombb']])\n",
    "y=np.asanyarray(test[['co2emissions']])\n",
    "reg.predict(test[['enginesize','Cylinders','consumptioncity','consumptionhwy','consumptioncombb']])"
   ]
  },
  {
   "cell_type": "code",
   "execution_count": 19,
   "metadata": {},
   "outputs": [
    {
     "name": "stdout",
     "output_type": "stream",
     "text": [
      "Residual sum of squares: 974.22\n",
      "Variance score: 0.41\n"
     ]
    }
   ],
   "source": [
    "#to compute residual sum of squares and variance score\n",
    "x=np.asanyarray(test[['enginesize','Cylinders','consumptioncity','consumptionhwy','consumptioncombb']])\n",
    "y=np.asanyarray(test[['co2emissions']])\n",
    "y_hat=reg.predict(test[['enginesize','Cylinders','consumptioncity','consumptionhwy','consumptioncombb']])\n",
    "print(\"Residual sum of squares: %.2f\"% np.mean((y_hat - y) ** 2))\n",
    "print('Variance score: %.2f' % reg.score(x, y))"
   ]
  },
  {
   "cell_type": "code",
   "execution_count": 20,
   "metadata": {},
   "outputs": [
    {
     "data": {
      "text/plain": [
       "array([[72.48635749]])"
      ]
     },
     "execution_count": 20,
     "metadata": {},
     "output_type": "execute_result"
    }
   ],
   "source": [
    "#predicting for a new set of values \n",
    "reg.predict([[1.9,4,6,6,6]])"
   ]
  }
 ],
 "metadata": {
  "kernelspec": {
   "display_name": "Python 3",
   "language": "python",
   "name": "python3"
  },
  "language_info": {
   "codemirror_mode": {
    "name": "ipython",
    "version": 3
   },
   "file_extension": ".py",
   "mimetype": "text/x-python",
   "name": "python",
   "nbconvert_exporter": "python",
   "pygments_lexer": "ipython3",
   "version": "3.7.6"
  }
 },
 "nbformat": 4,
 "nbformat_minor": 4
}
